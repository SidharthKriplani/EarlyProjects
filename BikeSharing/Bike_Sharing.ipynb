{
 "cells": [
  {
   "cell_type": "code",
   "execution_count": 1,
   "metadata": {},
   "outputs": [
    {
     "data": {
      "text/plain": [
       "\"\\nBoombikes has decided to come up with a mindful business plan to be able to \\naccelerate its revenue as soon as the ongoing lockdown comes to an end, and the \\neconomy restores to a healthy state. \\nBoombikes aspires to understand the demand for shared bikes among the people \\nafter this ongoing quarantine situation ends across the nation understand the \\nfactors on which the demand for these shared bikes depends.\\nSpecifically, they want to understand the factors affecting the demand for \\nthese shared bikes in the American market.\\n\\nFocus on these two:\\nWhich variables are significant in predicting the demand for shared bikes.\\nHow well those variables describe the bike demands\\n\\nModel the demand for shared bikes with the available independent variables. \\nIt will be used by the management to understand how exactly the demands vary \\nwith different features. \\nThey can accordingly manipulate the business strategy to meet the demand levels \\nand meet the customer's expectations. \\nFurther, the model will be a good way for management to understand the demand \\ndynamics of a new market. \\n\\ncnt is the target variable \\n\""
      ]
     },
     "execution_count": 1,
     "metadata": {},
     "output_type": "execute_result"
    }
   ],
   "source": [
    "#ASSIGNMENT WALKTHROUGH:\n",
    "'''\n",
    "Boombikes has decided to come up with a mindful business plan to be able to \n",
    "accelerate its revenue as soon as the ongoing lockdown comes to an end, and the \n",
    "economy restores to a healthy state. \n",
    "Boombikes aspires to understand the demand for shared bikes among the people \n",
    "after this ongoing quarantine situation ends across the nation understand the \n",
    "factors on which the demand for these shared bikes depends.\n",
    "Specifically, they want to understand the factors affecting the demand for \n",
    "these shared bikes in the American market.\n",
    "\n",
    "Focus on these two:\n",
    "Which variables are significant in predicting the demand for shared bikes.\n",
    "How well those variables describe the bike demands\n",
    "\n",
    "Model the demand for shared bikes with the available independent variables. \n",
    "It will be used by the management to understand how exactly the demands vary \n",
    "with different features. \n",
    "They can accordingly manipulate the business strategy to meet the demand levels \n",
    "and meet the customer's expectations. \n",
    "Further, the model will be a good way for management to understand the demand \n",
    "dynamics of a new market. \n",
    "\n",
    "cnt is the target variable \n",
    "'''"
   ]
  },
  {
   "cell_type": "code",
   "execution_count": 2,
   "metadata": {},
   "outputs": [],
   "source": [
    "# importing libraries\n",
    "import numpy as np, pandas as pd, matplotlib.pyplot as plt, seaborn as sns"
   ]
  },
  {
   "cell_type": "code",
   "execution_count": 3,
   "metadata": {},
   "outputs": [],
   "source": [
    "# importing all the necessary classes and methods from the libraries that will \n",
    "# be used in the course of this assignment \n",
    "from sklearn.metrics import r2_score, mean_squared_error"
   ]
  },
  {
   "cell_type": "code",
   "execution_count": 4,
   "metadata": {},
   "outputs": [],
   "source": [
    "import statsmodels.api as sm\n",
    "from statsmodels.stats.outliers_influence import variance_inflation_factor"
   ]
  },
  {
   "cell_type": "code",
   "execution_count": 5,
   "metadata": {},
   "outputs": [],
   "source": [
    "from sklearn.model_selection import train_test_split\n",
    "from sklearn.preprocessing import StandardScaler\n",
    "from sklearn.feature_selection import RFE\n",
    "from sklearn.linear_model import LinearRegression"
   ]
  },
  {
   "cell_type": "code",
   "execution_count": 6,
   "metadata": {},
   "outputs": [],
   "source": [
    "# import warnings library to suppress warnings later on\n",
    "import warnings\n",
    "warnings.filterwarnings('ignore')"
   ]
  },
  {
   "cell_type": "code",
   "execution_count": 7,
   "metadata": {},
   "outputs": [],
   "source": [
    "# reading the data\n",
    "path = r'D:\\Everything_Tech\\Python_DS__ML\\upGrad_ML_AI\\Course_3\\Module_2_Linear__Regression_Assignment\\Docs'\n",
    "df = pd.read_csv(path + \"\\Bike_Sharing_Dataset.csv\")"
   ]
  },
  {
   "cell_type": "code",
   "execution_count": 8,
   "metadata": {},
   "outputs": [
    {
     "data": {
      "text/html": [
       "<div>\n",
       "<style scoped>\n",
       "    .dataframe tbody tr th:only-of-type {\n",
       "        vertical-align: middle;\n",
       "    }\n",
       "\n",
       "    .dataframe tbody tr th {\n",
       "        vertical-align: top;\n",
       "    }\n",
       "\n",
       "    .dataframe thead th {\n",
       "        text-align: right;\n",
       "    }\n",
       "</style>\n",
       "<table border=\"1\" class=\"dataframe\">\n",
       "  <thead>\n",
       "    <tr style=\"text-align: right;\">\n",
       "      <th></th>\n",
       "      <th>instant</th>\n",
       "      <th>dteday</th>\n",
       "      <th>season</th>\n",
       "      <th>yr</th>\n",
       "      <th>mnth</th>\n",
       "      <th>holiday</th>\n",
       "      <th>weekday</th>\n",
       "      <th>workingday</th>\n",
       "      <th>weathersit</th>\n",
       "      <th>temp</th>\n",
       "      <th>atemp</th>\n",
       "      <th>hum</th>\n",
       "      <th>windspeed</th>\n",
       "      <th>casual</th>\n",
       "      <th>registered</th>\n",
       "      <th>cnt</th>\n",
       "    </tr>\n",
       "  </thead>\n",
       "  <tbody>\n",
       "    <tr>\n",
       "      <th>0</th>\n",
       "      <td>1</td>\n",
       "      <td>01-01-2018</td>\n",
       "      <td>1</td>\n",
       "      <td>0</td>\n",
       "      <td>1</td>\n",
       "      <td>0</td>\n",
       "      <td>6</td>\n",
       "      <td>0</td>\n",
       "      <td>2</td>\n",
       "      <td>14.110847</td>\n",
       "      <td>18.18125</td>\n",
       "      <td>80.5833</td>\n",
       "      <td>10.749882</td>\n",
       "      <td>331</td>\n",
       "      <td>654</td>\n",
       "      <td>985</td>\n",
       "    </tr>\n",
       "    <tr>\n",
       "      <th>1</th>\n",
       "      <td>2</td>\n",
       "      <td>02-01-2018</td>\n",
       "      <td>1</td>\n",
       "      <td>0</td>\n",
       "      <td>1</td>\n",
       "      <td>0</td>\n",
       "      <td>0</td>\n",
       "      <td>0</td>\n",
       "      <td>2</td>\n",
       "      <td>14.902598</td>\n",
       "      <td>17.68695</td>\n",
       "      <td>69.6087</td>\n",
       "      <td>16.652113</td>\n",
       "      <td>131</td>\n",
       "      <td>670</td>\n",
       "      <td>801</td>\n",
       "    </tr>\n",
       "    <tr>\n",
       "      <th>2</th>\n",
       "      <td>3</td>\n",
       "      <td>03-01-2018</td>\n",
       "      <td>1</td>\n",
       "      <td>0</td>\n",
       "      <td>1</td>\n",
       "      <td>0</td>\n",
       "      <td>1</td>\n",
       "      <td>1</td>\n",
       "      <td>1</td>\n",
       "      <td>8.050924</td>\n",
       "      <td>9.47025</td>\n",
       "      <td>43.7273</td>\n",
       "      <td>16.636703</td>\n",
       "      <td>120</td>\n",
       "      <td>1229</td>\n",
       "      <td>1349</td>\n",
       "    </tr>\n",
       "    <tr>\n",
       "      <th>3</th>\n",
       "      <td>4</td>\n",
       "      <td>04-01-2018</td>\n",
       "      <td>1</td>\n",
       "      <td>0</td>\n",
       "      <td>1</td>\n",
       "      <td>0</td>\n",
       "      <td>2</td>\n",
       "      <td>1</td>\n",
       "      <td>1</td>\n",
       "      <td>8.200000</td>\n",
       "      <td>10.60610</td>\n",
       "      <td>59.0435</td>\n",
       "      <td>10.739832</td>\n",
       "      <td>108</td>\n",
       "      <td>1454</td>\n",
       "      <td>1562</td>\n",
       "    </tr>\n",
       "    <tr>\n",
       "      <th>4</th>\n",
       "      <td>5</td>\n",
       "      <td>05-01-2018</td>\n",
       "      <td>1</td>\n",
       "      <td>0</td>\n",
       "      <td>1</td>\n",
       "      <td>0</td>\n",
       "      <td>3</td>\n",
       "      <td>1</td>\n",
       "      <td>1</td>\n",
       "      <td>9.305237</td>\n",
       "      <td>11.46350</td>\n",
       "      <td>43.6957</td>\n",
       "      <td>12.522300</td>\n",
       "      <td>82</td>\n",
       "      <td>1518</td>\n",
       "      <td>1600</td>\n",
       "    </tr>\n",
       "  </tbody>\n",
       "</table>\n",
       "</div>"
      ],
      "text/plain": [
       "   instant      dteday  season  yr  mnth  holiday  weekday  workingday  \\\n",
       "0        1  01-01-2018       1   0     1        0        6           0   \n",
       "1        2  02-01-2018       1   0     1        0        0           0   \n",
       "2        3  03-01-2018       1   0     1        0        1           1   \n",
       "3        4  04-01-2018       1   0     1        0        2           1   \n",
       "4        5  05-01-2018       1   0     1        0        3           1   \n",
       "\n",
       "   weathersit       temp     atemp      hum  windspeed  casual  registered  \\\n",
       "0           2  14.110847  18.18125  80.5833  10.749882     331         654   \n",
       "1           2  14.902598  17.68695  69.6087  16.652113     131         670   \n",
       "2           1   8.050924   9.47025  43.7273  16.636703     120        1229   \n",
       "3           1   8.200000  10.60610  59.0435  10.739832     108        1454   \n",
       "4           1   9.305237  11.46350  43.6957  12.522300      82        1518   \n",
       "\n",
       "    cnt  \n",
       "0   985  \n",
       "1   801  \n",
       "2  1349  \n",
       "3  1562  \n",
       "4  1600  "
      ]
     },
     "execution_count": 8,
     "metadata": {},
     "output_type": "execute_result"
    }
   ],
   "source": [
    "# understanding the data\n",
    "df.head()"
   ]
  },
  {
   "cell_type": "code",
   "execution_count": 9,
   "metadata": {},
   "outputs": [
    {
     "data": {
      "text/plain": [
       "(730, 16)"
      ]
     },
     "execution_count": 9,
     "metadata": {},
     "output_type": "execute_result"
    }
   ],
   "source": [
    "df.shape"
   ]
  },
  {
   "cell_type": "code",
   "execution_count": 10,
   "metadata": {},
   "outputs": [
    {
     "name": "stdout",
     "output_type": "stream",
     "text": [
      "<class 'pandas.core.frame.DataFrame'>\n",
      "RangeIndex: 730 entries, 0 to 729\n",
      "Data columns (total 16 columns):\n",
      " #   Column      Non-Null Count  Dtype  \n",
      "---  ------      --------------  -----  \n",
      " 0   instant     730 non-null    int64  \n",
      " 1   dteday      730 non-null    object \n",
      " 2   season      730 non-null    int64  \n",
      " 3   yr          730 non-null    int64  \n",
      " 4   mnth        730 non-null    int64  \n",
      " 5   holiday     730 non-null    int64  \n",
      " 6   weekday     730 non-null    int64  \n",
      " 7   workingday  730 non-null    int64  \n",
      " 8   weathersit  730 non-null    int64  \n",
      " 9   temp        730 non-null    float64\n",
      " 10  atemp       730 non-null    float64\n",
      " 11  hum         730 non-null    float64\n",
      " 12  windspeed   730 non-null    float64\n",
      " 13  casual      730 non-null    int64  \n",
      " 14  registered  730 non-null    int64  \n",
      " 15  cnt         730 non-null    int64  \n",
      "dtypes: float64(4), int64(11), object(1)\n",
      "memory usage: 91.4+ KB\n"
     ]
    }
   ],
   "source": [
    "df.info()"
   ]
  },
  {
   "cell_type": "code",
   "execution_count": 11,
   "metadata": {},
   "outputs": [
    {
     "data": {
      "text/html": [
       "<div>\n",
       "<style scoped>\n",
       "    .dataframe tbody tr th:only-of-type {\n",
       "        vertical-align: middle;\n",
       "    }\n",
       "\n",
       "    .dataframe tbody tr th {\n",
       "        vertical-align: top;\n",
       "    }\n",
       "\n",
       "    .dataframe thead th {\n",
       "        text-align: right;\n",
       "    }\n",
       "</style>\n",
       "<table border=\"1\" class=\"dataframe\">\n",
       "  <thead>\n",
       "    <tr style=\"text-align: right;\">\n",
       "      <th></th>\n",
       "      <th>instant</th>\n",
       "      <th>season</th>\n",
       "      <th>yr</th>\n",
       "      <th>mnth</th>\n",
       "      <th>holiday</th>\n",
       "      <th>weekday</th>\n",
       "      <th>workingday</th>\n",
       "      <th>weathersit</th>\n",
       "      <th>temp</th>\n",
       "      <th>atemp</th>\n",
       "      <th>hum</th>\n",
       "      <th>windspeed</th>\n",
       "      <th>casual</th>\n",
       "      <th>registered</th>\n",
       "      <th>cnt</th>\n",
       "    </tr>\n",
       "  </thead>\n",
       "  <tbody>\n",
       "    <tr>\n",
       "      <th>count</th>\n",
       "      <td>730.000000</td>\n",
       "      <td>730.000000</td>\n",
       "      <td>730.000000</td>\n",
       "      <td>730.000000</td>\n",
       "      <td>730.000000</td>\n",
       "      <td>730.000000</td>\n",
       "      <td>730.000000</td>\n",
       "      <td>730.000000</td>\n",
       "      <td>730.000000</td>\n",
       "      <td>730.000000</td>\n",
       "      <td>730.000000</td>\n",
       "      <td>730.000000</td>\n",
       "      <td>730.000000</td>\n",
       "      <td>730.000000</td>\n",
       "      <td>730.000000</td>\n",
       "    </tr>\n",
       "    <tr>\n",
       "      <th>mean</th>\n",
       "      <td>365.500000</td>\n",
       "      <td>2.498630</td>\n",
       "      <td>0.500000</td>\n",
       "      <td>6.526027</td>\n",
       "      <td>0.028767</td>\n",
       "      <td>2.997260</td>\n",
       "      <td>0.683562</td>\n",
       "      <td>1.394521</td>\n",
       "      <td>20.319259</td>\n",
       "      <td>23.726322</td>\n",
       "      <td>62.765175</td>\n",
       "      <td>12.763620</td>\n",
       "      <td>849.249315</td>\n",
       "      <td>3658.757534</td>\n",
       "      <td>4508.006849</td>\n",
       "    </tr>\n",
       "    <tr>\n",
       "      <th>std</th>\n",
       "      <td>210.877136</td>\n",
       "      <td>1.110184</td>\n",
       "      <td>0.500343</td>\n",
       "      <td>3.450215</td>\n",
       "      <td>0.167266</td>\n",
       "      <td>2.006161</td>\n",
       "      <td>0.465405</td>\n",
       "      <td>0.544807</td>\n",
       "      <td>7.506729</td>\n",
       "      <td>8.150308</td>\n",
       "      <td>14.237589</td>\n",
       "      <td>5.195841</td>\n",
       "      <td>686.479875</td>\n",
       "      <td>1559.758728</td>\n",
       "      <td>1936.011647</td>\n",
       "    </tr>\n",
       "    <tr>\n",
       "      <th>min</th>\n",
       "      <td>1.000000</td>\n",
       "      <td>1.000000</td>\n",
       "      <td>0.000000</td>\n",
       "      <td>1.000000</td>\n",
       "      <td>0.000000</td>\n",
       "      <td>0.000000</td>\n",
       "      <td>0.000000</td>\n",
       "      <td>1.000000</td>\n",
       "      <td>2.424346</td>\n",
       "      <td>3.953480</td>\n",
       "      <td>0.000000</td>\n",
       "      <td>1.500244</td>\n",
       "      <td>2.000000</td>\n",
       "      <td>20.000000</td>\n",
       "      <td>22.000000</td>\n",
       "    </tr>\n",
       "    <tr>\n",
       "      <th>25%</th>\n",
       "      <td>183.250000</td>\n",
       "      <td>2.000000</td>\n",
       "      <td>0.000000</td>\n",
       "      <td>4.000000</td>\n",
       "      <td>0.000000</td>\n",
       "      <td>1.000000</td>\n",
       "      <td>0.000000</td>\n",
       "      <td>1.000000</td>\n",
       "      <td>13.811885</td>\n",
       "      <td>16.889713</td>\n",
       "      <td>52.000000</td>\n",
       "      <td>9.041650</td>\n",
       "      <td>316.250000</td>\n",
       "      <td>2502.250000</td>\n",
       "      <td>3169.750000</td>\n",
       "    </tr>\n",
       "    <tr>\n",
       "      <th>50%</th>\n",
       "      <td>365.500000</td>\n",
       "      <td>3.000000</td>\n",
       "      <td>0.500000</td>\n",
       "      <td>7.000000</td>\n",
       "      <td>0.000000</td>\n",
       "      <td>3.000000</td>\n",
       "      <td>1.000000</td>\n",
       "      <td>1.000000</td>\n",
       "      <td>20.465826</td>\n",
       "      <td>24.368225</td>\n",
       "      <td>62.625000</td>\n",
       "      <td>12.125325</td>\n",
       "      <td>717.000000</td>\n",
       "      <td>3664.500000</td>\n",
       "      <td>4548.500000</td>\n",
       "    </tr>\n",
       "    <tr>\n",
       "      <th>75%</th>\n",
       "      <td>547.750000</td>\n",
       "      <td>3.000000</td>\n",
       "      <td>1.000000</td>\n",
       "      <td>10.000000</td>\n",
       "      <td>0.000000</td>\n",
       "      <td>5.000000</td>\n",
       "      <td>1.000000</td>\n",
       "      <td>2.000000</td>\n",
       "      <td>26.880615</td>\n",
       "      <td>30.445775</td>\n",
       "      <td>72.989575</td>\n",
       "      <td>15.625589</td>\n",
       "      <td>1096.500000</td>\n",
       "      <td>4783.250000</td>\n",
       "      <td>5966.000000</td>\n",
       "    </tr>\n",
       "    <tr>\n",
       "      <th>max</th>\n",
       "      <td>730.000000</td>\n",
       "      <td>4.000000</td>\n",
       "      <td>1.000000</td>\n",
       "      <td>12.000000</td>\n",
       "      <td>1.000000</td>\n",
       "      <td>6.000000</td>\n",
       "      <td>1.000000</td>\n",
       "      <td>3.000000</td>\n",
       "      <td>35.328347</td>\n",
       "      <td>42.044800</td>\n",
       "      <td>97.250000</td>\n",
       "      <td>34.000021</td>\n",
       "      <td>3410.000000</td>\n",
       "      <td>6946.000000</td>\n",
       "      <td>8714.000000</td>\n",
       "    </tr>\n",
       "  </tbody>\n",
       "</table>\n",
       "</div>"
      ],
      "text/plain": [
       "          instant      season          yr        mnth     holiday     weekday  \\\n",
       "count  730.000000  730.000000  730.000000  730.000000  730.000000  730.000000   \n",
       "mean   365.500000    2.498630    0.500000    6.526027    0.028767    2.997260   \n",
       "std    210.877136    1.110184    0.500343    3.450215    0.167266    2.006161   \n",
       "min      1.000000    1.000000    0.000000    1.000000    0.000000    0.000000   \n",
       "25%    183.250000    2.000000    0.000000    4.000000    0.000000    1.000000   \n",
       "50%    365.500000    3.000000    0.500000    7.000000    0.000000    3.000000   \n",
       "75%    547.750000    3.000000    1.000000   10.000000    0.000000    5.000000   \n",
       "max    730.000000    4.000000    1.000000   12.000000    1.000000    6.000000   \n",
       "\n",
       "       workingday  weathersit        temp       atemp         hum   windspeed  \\\n",
       "count  730.000000  730.000000  730.000000  730.000000  730.000000  730.000000   \n",
       "mean     0.683562    1.394521   20.319259   23.726322   62.765175   12.763620   \n",
       "std      0.465405    0.544807    7.506729    8.150308   14.237589    5.195841   \n",
       "min      0.000000    1.000000    2.424346    3.953480    0.000000    1.500244   \n",
       "25%      0.000000    1.000000   13.811885   16.889713   52.000000    9.041650   \n",
       "50%      1.000000    1.000000   20.465826   24.368225   62.625000   12.125325   \n",
       "75%      1.000000    2.000000   26.880615   30.445775   72.989575   15.625589   \n",
       "max      1.000000    3.000000   35.328347   42.044800   97.250000   34.000021   \n",
       "\n",
       "            casual   registered          cnt  \n",
       "count   730.000000   730.000000   730.000000  \n",
       "mean    849.249315  3658.757534  4508.006849  \n",
       "std     686.479875  1559.758728  1936.011647  \n",
       "min       2.000000    20.000000    22.000000  \n",
       "25%     316.250000  2502.250000  3169.750000  \n",
       "50%     717.000000  3664.500000  4548.500000  \n",
       "75%    1096.500000  4783.250000  5966.000000  \n",
       "max    3410.000000  6946.000000  8714.000000  "
      ]
     },
     "execution_count": 11,
     "metadata": {},
     "output_type": "execute_result"
    }
   ],
   "source": [
    "df.describe()"
   ]
  },
  {
   "cell_type": "code",
   "execution_count": 12,
   "metadata": {},
   "outputs": [
    {
     "data": {
      "text/plain": [
       "6    105\n",
       "1    105\n",
       "0    105\n",
       "5    104\n",
       "4    104\n",
       "2    104\n",
       "3    103\n",
       "Name: weekday, dtype: int64"
      ]
     },
     "execution_count": 12,
     "metadata": {},
     "output_type": "execute_result"
    }
   ],
   "source": [
    "df.weekday.value_counts()"
   ]
  },
  {
   "cell_type": "code",
   "execution_count": 13,
   "metadata": {},
   "outputs": [
    {
     "data": {
      "text/plain": [
       "Index(['season', 'yr', 'mnth', 'holiday', 'workingday', 'weathersit', 'temp',\n",
       "       'atemp', 'hum', 'windspeed', 'cnt'],\n",
       "      dtype='object')"
      ]
     },
     "execution_count": 13,
     "metadata": {},
     "output_type": "execute_result"
    }
   ],
   "source": [
    "# there are many columns that seem outright useless for our analysis. We will drop them\n",
    "# weekday is dropped because all the weekdays have the same frequency of occurence \n",
    "df = df.drop(['casual', 'registered', 'instant', 'dteday', 'weekday'], axis = 1)\n",
    "df.columns"
   ]
  },
  {
   "cell_type": "code",
   "execution_count": 14,
   "metadata": {},
   "outputs": [],
   "source": [
    "# renaming certain column labels for better understanding \n",
    "df=df.rename(columns = {'yr':'year', 'mnth':'month', 'weathersit':'weather', \n",
    "                        'temp':'temperature', 'cnt':'count', 'hum':'humidity'})"
   ]
  },
  {
   "cell_type": "code",
   "execution_count": 15,
   "metadata": {},
   "outputs": [],
   "source": [
    "# some categorical variables need to be reverse encoded\n",
    "df.season = df['season'].map({1:'spring',2:'summer',3:'fall',4:'winter'})\n",
    "df.weather = df['weather'].map({1:'Clear',2:'Mist',3:'Light Snow',4:'Heavy Rain'})\n",
    "df.month = df['month'].map({1:'Jan',2:'Feb',3:'Mar',4:'Apr',5:'May',6:'June',7:'July',8:'Aug',9:'Sep',10:'Oct',11:'Nov',12:'Dec'})"
   ]
  },
  {
   "cell_type": "code",
   "execution_count": 16,
   "metadata": {},
   "outputs": [],
   "source": [
    "#  bar plottin the categorical variables"
   ]
  },
  {
   "cell_type": "code",
   "execution_count": 17,
   "metadata": {},
   "outputs": [
    {
     "data": {
      "text/plain": [
       "<AxesSubplot:xlabel='season', ylabel='count'>"
      ]
     },
     "execution_count": 17,
     "metadata": {},
     "output_type": "execute_result"
    },
    {
     "data": {
      "image/png": "[encoded data removed]",
      "text/plain": [
       "<Figure size 432x288 with 1 Axes>"
      ]
     },
     "metadata": {
      "needs_background": "light"
     },
     "output_type": "display_data"
    }
   ],
   "source": [
    "# more demand of bikes is observed during the fall \n",
    "sns.barplot('season','count',data=df)"
   ]
  },
  {
   "cell_type": "code",
   "execution_count": 18,
   "metadata": {},
   "outputs": [
    {
     "data": {
      "text/plain": [
       "<AxesSubplot:xlabel='weather', ylabel='count'>"
      ]
     },
     "execution_count": 18,
     "metadata": {},
     "output_type": "execute_result"
    },
    {
     "data": {
      "image/png": "[encoded data removed]",
      "text/plain": [
       "<Figure size 432x288 with 1 Axes>"
      ]
     },
     "metadata": {
      "needs_background": "light"
     },
     "output_type": "display_data"
    }
   ],
   "source": [
    "# demand of bikes increases when the weather is clear\n",
    "sns.barplot('weather','count',data=df)"
   ]
  },
  {
   "cell_type": "code",
   "execution_count": 19,
   "metadata": {},
   "outputs": [
    {
     "data": {
      "text/plain": [
       "<AxesSubplot:xlabel='workingday', ylabel='count'>"
      ]
     },
     "execution_count": 19,
     "metadata": {},
     "output_type": "execute_result"
    },
    {
     "data": {
      "image/png": "[encoded data removed]",
      "text/plain": [
       "<Figure size 432x288 with 1 Axes>"
      ]
     },
     "metadata": {
      "needs_background": "light"
     },
     "output_type": "display_data"
    }
   ],
   "source": [
    "# there is not much difference between the demand on a workday or a non working day but non working days saw more demand\n",
    "sns.barplot('workingday','count',data=df)"
   ]
  },
  {
   "cell_type": "code",
   "execution_count": 20,
   "metadata": {},
   "outputs": [
    {
     "data": {
      "text/plain": [
       "<AxesSubplot:xlabel='year', ylabel='count'>"
      ]
     },
     "execution_count": 20,
     "metadata": {},
     "output_type": "execute_result"
    },
    {
     "data": {
      "image/png": "[encoded data removed]",
      "text/plain": [
       "<Figure size 432x288 with 1 Axes>"
      ]
     },
     "metadata": {
      "needs_background": "light"
     },
     "output_type": "display_data"
    }
   ],
   "source": [
    "# the demand has been increasing as it was more in the year 2019 (1) than in 2018 (0)\n",
    "sns.barplot('year','count',data=df)"
   ]
  },
  {
   "cell_type": "code",
   "execution_count": 21,
   "metadata": {},
   "outputs": [
    {
     "data": {
      "text/plain": [
       "<AxesSubplot:xlabel='month', ylabel='count'>"
      ]
     },
     "execution_count": 21,
     "metadata": {},
     "output_type": "execute_result"
    },
    {
     "data": {
      "image/png": "[encoded data removed]",
      "text/plain": [
       "<Figure size 432x288 with 1 Axes>"
      ]
     },
     "metadata": {
      "needs_background": "light"
     },
     "output_type": "display_data"
    }
   ],
   "source": [
    "# the same rule as above, yearly demand keeps increasing \n",
    "sns.barplot('month','count',hue='year',data=df)"
   ]
  },
  {
   "cell_type": "code",
   "execution_count": 22,
   "metadata": {},
   "outputs": [
    {
     "data": {
      "text/plain": [
       "<AxesSubplot:xlabel='holiday'>"
      ]
     },
     "execution_count": 22,
     "metadata": {},
     "output_type": "execute_result"
    },
    {
     "data": {
      "image/png": "[encoded data removed]",
      "text/plain": [
       "<Figure size 432x288 with 1 Axes>"
      ]
     },
     "metadata": {
      "needs_background": "light"
     },
     "output_type": "display_data"
    }
   ],
   "source": [
    "# the demand increases when it is a holiday\n",
    "df.groupby('holiday')['count'].max().plot(kind='bar')"
   ]
  },
  {
   "cell_type": "code",
   "execution_count": 23,
   "metadata": {},
   "outputs": [
    {
     "data": {
      "text/plain": [
       "<seaborn.axisgrid.PairGrid at 0x15d1eb16708>"
      ]
     },
     "execution_count": 23,
     "metadata": {},
     "output_type": "execute_result"
    },
    {
     "data": {
      "image/png": "[encoded data removed]",
      "text/plain": [
       "<Figure size 720x180 with 4 Axes>"
      ]
     },
     "metadata": {
      "needs_background": "light"
     },
     "output_type": "display_data"
    }
   ],
   "source": [
    "# scatter plotting the numerical variables\n",
    "sns.pairplot(df, x_vars = ['temperature','atemp','humidity','windspeed'], y_vars = 'count', aspect = 1, kind = 'scatter')"
   ]
  },
  {
   "cell_type": "code",
   "execution_count": 24,
   "metadata": {},
   "outputs": [
    {
     "data": {
      "text/plain": [
       "<AxesSubplot:>"
      ]
     },
     "execution_count": 24,
     "metadata": {},
     "output_type": "execute_result"
    },
    {
     "data": {
      "image/png": "[encoded data removed]",
      "text/plain": [
       "<Figure size 432x288 with 2 Axes>"
      ]
     },
     "metadata": {
      "needs_background": "light"
     },
     "output_type": "display_data"
    }
   ],
   "source": [
    "# heatmapping all the numerical variables to find correlation trends\n",
    "sns.heatmap(df.corr(), cmap = 'YlGnBu', annot = True)"
   ]
  },
  {
   "cell_type": "code",
   "execution_count": 25,
   "metadata": {},
   "outputs": [],
   "source": [
    "# atemp has a high correlation with temp so it can be dropped\n",
    "df = df.drop('atemp', axis = 1)"
   ]
  },
  {
   "cell_type": "code",
   "execution_count": 26,
   "metadata": {},
   "outputs": [],
   "source": [
    "# now we create dummy variables for the categorical variables\n",
    "df = pd.concat([df, pd.get_dummies(df['season'], drop_first = True)], axis = 1)\n",
    "df = pd.concat([df, pd.get_dummies(df['month'], drop_first = True)], axis = 1)\n",
    "df = pd.concat([df, pd.get_dummies(df['weather'], drop_first = True)], axis = 1)\n",
    "\n",
    "# we drop the original variables \n",
    "df.drop(['season', 'month', 'weather', 'workingday'], axis = 1, inplace = True)"
   ]
  },
  {
   "cell_type": "code",
   "execution_count": 27,
   "metadata": {},
   "outputs": [],
   "source": [
    "# now we split the dataset into test and train\n",
    "np.random.seed(0)\n",
    "df_train, df_test = train_test_split(df, train_size = 0.7, test_size = 0.3, random_state = 100)"
   ]
  },
  {
   "cell_type": "code",
   "execution_count": 28,
   "metadata": {},
   "outputs": [],
   "source": [
    "# now we use StandardScaling to scale the numeric values\n",
    "scaler = StandardScaler()\n",
    "numericals=['temperature','humidity','windspeed','count']\n",
    "df_train[numericals] = scaler.fit_transform(df_train[numericals])"
   ]
  },
  {
   "cell_type": "code",
   "execution_count": 29,
   "metadata": {},
   "outputs": [],
   "source": [
    "# splitting the train data into independent and target variables\n",
    "y_train = df_train.pop('count')\n",
    "y_train = y_train.values.reshape(-1, 1)\n",
    "X_train = df_train"
   ]
  },
  {
   "cell_type": "code",
   "execution_count": 30,
   "metadata": {},
   "outputs": [
    {
     "data": {
      "text/plain": [
       "LinearRegression(copy_X=True, fit_intercept=True, n_jobs=None, normalize=False)"
      ]
     },
     "execution_count": 30,
     "metadata": {},
     "output_type": "execute_result"
    }
   ],
   "source": [
    "# creating a LinearRegressin object and fitting the variables on it\n",
    "lm = LinearRegression()\n",
    "lm.fit(X_train, y_train)"
   ]
  },
  {
   "cell_type": "code",
   "execution_count": 31,
   "metadata": {},
   "outputs": [],
   "source": [
    "# using Recursive Feature Elimination by first creating an object and then fitting \n",
    "# to that object the two X_train and y_train\n",
    "rfe = RFE(lm, 15)\n",
    "rfe = rfe.fit(X_train, y_train)"
   ]
  },
  {
   "cell_type": "code",
   "execution_count": 32,
   "metadata": {},
   "outputs": [
    {
     "data": {
      "text/plain": [
       "Index(['humidity', 'Aug', 'June', 'Mar', 'May', 'Oct'], dtype='object')"
      ]
     },
     "execution_count": 32,
     "metadata": {},
     "output_type": "execute_result"
    }
   ],
   "source": [
    "# columns that came out selected by RFE are assigned here to col\n",
    "col = X_train.columns[rfe.support_]\n",
    "X_train.columns[~rfe.support_]"
   ]
  },
  {
   "cell_type": "code",
   "execution_count": 33,
   "metadata": {},
   "outputs": [],
   "source": [
    "# creating a dataframe with just the RFE selected variables \n",
    "X_train_rfe = X_train[col]"
   ]
  },
  {
   "cell_type": "code",
   "execution_count": 34,
   "metadata": {},
   "outputs": [],
   "source": [
    "# creating a constant to the X_train_rfe dataframe\n",
    "X_train_rfe = sm.add_constant(X_train_rfe)\n",
    "lm = sm.OLS(y_train,X_train_rfe).fit()"
   ]
  },
  {
   "cell_type": "code",
   "execution_count": 35,
   "metadata": {},
   "outputs": [
    {
     "data": {
      "text/html": [
       "<table class=\"simpletable\">\n",
       "<caption>OLS Regression Results</caption>\n",
       "<tr>\n",
       "  <th>Dep. Variable:</th>            <td>y</td>        <th>  R-squared:         </th> <td>   0.841</td> \n",
       "</tr>\n",
       "<tr>\n",
       "  <th>Model:</th>                   <td>OLS</td>       <th>  Adj. R-squared:    </th> <td>   0.836</td> \n",
       "</tr>\n",
       "<tr>\n",
       "  <th>Method:</th>             <td>Least Squares</td>  <th>  F-statistic:       </th> <td>   174.0</td> \n",
       "</tr>\n",
       "<tr>\n",
       "  <th>Date:</th>             <td>Mon, 05 Oct 2020</td> <th>  Prob (F-statistic):</th> <td>4.55e-186</td>\n",
       "</tr>\n",
       "<tr>\n",
       "  <th>Time:</th>                 <td>19:29:39</td>     <th>  Log-Likelihood:    </th> <td> -254.93</td> \n",
       "</tr>\n",
       "<tr>\n",
       "  <th>No. Observations:</th>      <td>   510</td>      <th>  AIC:               </th> <td>   541.9</td> \n",
       "</tr>\n",
       "<tr>\n",
       "  <th>Df Residuals:</th>          <td>   494</td>      <th>  BIC:               </th> <td>   609.6</td> \n",
       "</tr>\n",
       "<tr>\n",
       "  <th>Df Model:</th>              <td>    15</td>      <th>                     </th>     <td> </td>    \n",
       "</tr>\n",
       "<tr>\n",
       "  <th>Covariance Type:</th>      <td>nonrobust</td>    <th>                     </th>     <td> </td>    \n",
       "</tr>\n",
       "</table>\n",
       "<table class=\"simpletable\">\n",
       "<tr>\n",
       "       <td></td>          <th>coef</th>     <th>std err</th>      <th>t</th>      <th>P>|t|</th>  <th>[0.025</th>    <th>0.975]</th>  \n",
       "</tr>\n",
       "<tr>\n",
       "  <th>const</th>       <td>   -0.3499</td> <td>    0.068</td> <td>   -5.183</td> <td> 0.000</td> <td>   -0.483</td> <td>   -0.217</td>\n",
       "</tr>\n",
       "<tr>\n",
       "  <th>year</th>        <td>    1.0457</td> <td>    0.036</td> <td>   28.805</td> <td> 0.000</td> <td>    0.974</td> <td>    1.117</td>\n",
       "</tr>\n",
       "<tr>\n",
       "  <th>holiday</th>     <td>   -0.3976</td> <td>    0.116</td> <td>   -3.431</td> <td> 0.001</td> <td>   -0.625</td> <td>   -0.170</td>\n",
       "</tr>\n",
       "<tr>\n",
       "  <th>temperature</th> <td>    0.4232</td> <td>    0.038</td> <td>   11.263</td> <td> 0.000</td> <td>    0.349</td> <td>    0.497</td>\n",
       "</tr>\n",
       "<tr>\n",
       "  <th>windspeed</th>   <td>   -0.1212</td> <td>    0.019</td> <td>   -6.368</td> <td> 0.000</td> <td>   -0.159</td> <td>   -0.084</td>\n",
       "</tr>\n",
       "<tr>\n",
       "  <th>spring</th>      <td>   -0.2707</td> <td>    0.099</td> <td>   -2.726</td> <td> 0.007</td> <td>   -0.466</td> <td>   -0.076</td>\n",
       "</tr>\n",
       "<tr>\n",
       "  <th>summer</th>      <td>    0.1326</td> <td>    0.069</td> <td>    1.910</td> <td> 0.057</td> <td>   -0.004</td> <td>    0.269</td>\n",
       "</tr>\n",
       "<tr>\n",
       "  <th>winter</th>      <td>    0.3873</td> <td>    0.080</td> <td>    4.857</td> <td> 0.000</td> <td>    0.231</td> <td>    0.544</td>\n",
       "</tr>\n",
       "<tr>\n",
       "  <th>Dec</th>         <td>   -0.2429</td> <td>    0.082</td> <td>   -2.946</td> <td> 0.003</td> <td>   -0.405</td> <td>   -0.081</td>\n",
       "</tr>\n",
       "<tr>\n",
       "  <th>Feb</th>         <td>   -0.1744</td> <td>    0.098</td> <td>   -1.779</td> <td> 0.076</td> <td>   -0.367</td> <td>    0.018</td>\n",
       "</tr>\n",
       "<tr>\n",
       "  <th>Jan</th>         <td>   -0.3170</td> <td>    0.097</td> <td>   -3.270</td> <td> 0.001</td> <td>   -0.508</td> <td>   -0.127</td>\n",
       "</tr>\n",
       "<tr>\n",
       "  <th>July</th>        <td>   -0.2200</td> <td>    0.082</td> <td>   -2.675</td> <td> 0.008</td> <td>   -0.382</td> <td>   -0.058</td>\n",
       "</tr>\n",
       "<tr>\n",
       "  <th>Nov</th>         <td>   -0.2099</td> <td>    0.086</td> <td>   -2.449</td> <td> 0.015</td> <td>   -0.378</td> <td>   -0.042</td>\n",
       "</tr>\n",
       "<tr>\n",
       "  <th>Sep</th>         <td>    0.2971</td> <td>    0.076</td> <td>    3.905</td> <td> 0.000</td> <td>    0.148</td> <td>    0.447</td>\n",
       "</tr>\n",
       "<tr>\n",
       "  <th>Light Snow</th>  <td>   -1.3094</td> <td>    0.109</td> <td>  -11.968</td> <td> 0.000</td> <td>   -1.524</td> <td>   -1.094</td>\n",
       "</tr>\n",
       "<tr>\n",
       "  <th>Mist</th>        <td>   -0.3628</td> <td>    0.039</td> <td>   -9.374</td> <td> 0.000</td> <td>   -0.439</td> <td>   -0.287</td>\n",
       "</tr>\n",
       "</table>\n",
       "<table class=\"simpletable\">\n",
       "<tr>\n",
       "  <th>Omnibus:</th>       <td>74.865</td> <th>  Durbin-Watson:     </th> <td>   2.016</td>\n",
       "</tr>\n",
       "<tr>\n",
       "  <th>Prob(Omnibus):</th> <td> 0.000</td> <th>  Jarque-Bera (JB):  </th> <td> 189.592</td>\n",
       "</tr>\n",
       "<tr>\n",
       "  <th>Skew:</th>          <td>-0.745</td> <th>  Prob(JB):          </th> <td>6.77e-42</td>\n",
       "</tr>\n",
       "<tr>\n",
       "  <th>Kurtosis:</th>      <td> 5.589</td> <th>  Cond. No.          </th> <td>    10.8</td>\n",
       "</tr>\n",
       "</table><br/><br/>Warnings:<br/>[1] Standard Errors assume that the covariance matrix of the errors is correctly specified."
      ],
      "text/plain": [
       "<class 'statsmodels.iolib.summary.Summary'>\n",
       "\"\"\"\n",
       "                            OLS Regression Results                            \n",
       "==============================================================================\n",
       "Dep. Variable:                      y   R-squared:                       0.841\n",
       "Model:                            OLS   Adj. R-squared:                  0.836\n",
       "Method:                 Least Squares   F-statistic:                     174.0\n",
       "Date:                Mon, 05 Oct 2020   Prob (F-statistic):          4.55e-186\n",
       "Time:                        19:29:39   Log-Likelihood:                -254.93\n",
       "No. Observations:                 510   AIC:                             541.9\n",
       "Df Residuals:                     494   BIC:                             609.6\n",
       "Df Model:                          15                                         \n",
       "Covariance Type:            nonrobust                                         \n",
       "===============================================================================\n",
       "                  coef    std err          t      P>|t|      [0.025      0.975]\n",
       "-------------------------------------------------------------------------------\n",
       "const          -0.3499      0.068     -5.183      0.000      -0.483      -0.217\n",
       "year            1.0457      0.036     28.805      0.000       0.974       1.117\n",
       "holiday        -0.3976      0.116     -3.431      0.001      -0.625      -0.170\n",
       "temperature     0.4232      0.038     11.263      0.000       0.349       0.497\n",
       "windspeed      -0.1212      0.019     -6.368      0.000      -0.159      -0.084\n",
       "spring         -0.2707      0.099     -2.726      0.007      -0.466      -0.076\n",
       "summer          0.1326      0.069      1.910      0.057      -0.004       0.269\n",
       "winter          0.3873      0.080      4.857      0.000       0.231       0.544\n",
       "Dec            -0.2429      0.082     -2.946      0.003      -0.405      -0.081\n",
       "Feb            -0.1744      0.098     -1.779      0.076      -0.367       0.018\n",
       "Jan            -0.3170      0.097     -3.270      0.001      -0.508      -0.127\n",
       "July           -0.2200      0.082     -2.675      0.008      -0.382      -0.058\n",
       "Nov            -0.2099      0.086     -2.449      0.015      -0.378      -0.042\n",
       "Sep             0.2971      0.076      3.905      0.000       0.148       0.447\n",
       "Light Snow     -1.3094      0.109    -11.968      0.000      -1.524      -1.094\n",
       "Mist           -0.3628      0.039     -9.374      0.000      -0.439      -0.287\n",
       "==============================================================================\n",
       "Omnibus:                       74.865   Durbin-Watson:                   2.016\n",
       "Prob(Omnibus):                  0.000   Jarque-Bera (JB):              189.592\n",
       "Skew:                          -0.745   Prob(JB):                     6.77e-42\n",
       "Kurtosis:                       5.589   Cond. No.                         10.8\n",
       "==============================================================================\n",
       "\n",
       "Warnings:\n",
       "[1] Standard Errors assume that the covariance matrix of the errors is correctly specified.\n",
       "\"\"\""
      ]
     },
     "execution_count": 35,
     "metadata": {},
     "output_type": "execute_result"
    }
   ],
   "source": [
    "lm.summary()"
   ]
  },
  {
   "cell_type": "code",
   "execution_count": 36,
   "metadata": {},
   "outputs": [],
   "source": [
    "# we remove Feb since its p value is high\n",
    "X_train_rfe = X_train_rfe.drop('Feb', axis = 1)"
   ]
  },
  {
   "cell_type": "code",
   "execution_count": 37,
   "metadata": {},
   "outputs": [],
   "source": [
    "# creating a constant to the X_train_rfe dataframe\n",
    "X_train_sm1 = sm.add_constant(X_train_rfe)\n",
    "lm = sm.OLS(y_train,X_train_sm1).fit()"
   ]
  },
  {
   "cell_type": "code",
   "execution_count": 38,
   "metadata": {},
   "outputs": [
    {
     "data": {
      "text/html": [
       "<table class=\"simpletable\">\n",
       "<caption>OLS Regression Results</caption>\n",
       "<tr>\n",
       "  <th>Dep. Variable:</th>            <td>y</td>        <th>  R-squared:         </th> <td>   0.840</td> \n",
       "</tr>\n",
       "<tr>\n",
       "  <th>Model:</th>                   <td>OLS</td>       <th>  Adj. R-squared:    </th> <td>   0.835</td> \n",
       "</tr>\n",
       "<tr>\n",
       "  <th>Method:</th>             <td>Least Squares</td>  <th>  F-statistic:       </th> <td>   185.4</td> \n",
       "</tr>\n",
       "<tr>\n",
       "  <th>Date:</th>             <td>Mon, 05 Oct 2020</td> <th>  Prob (F-statistic):</th> <td>1.57e-186</td>\n",
       "</tr>\n",
       "<tr>\n",
       "  <th>Time:</th>                 <td>19:29:41</td>     <th>  Log-Likelihood:    </th> <td> -256.56</td> \n",
       "</tr>\n",
       "<tr>\n",
       "  <th>No. Observations:</th>      <td>   510</td>      <th>  AIC:               </th> <td>   543.1</td> \n",
       "</tr>\n",
       "<tr>\n",
       "  <th>Df Residuals:</th>          <td>   495</td>      <th>  BIC:               </th> <td>   606.6</td> \n",
       "</tr>\n",
       "<tr>\n",
       "  <th>Df Model:</th>              <td>    14</td>      <th>                     </th>     <td> </td>    \n",
       "</tr>\n",
       "<tr>\n",
       "  <th>Covariance Type:</th>      <td>nonrobust</td>    <th>                     </th>     <td> </td>    \n",
       "</tr>\n",
       "</table>\n",
       "<table class=\"simpletable\">\n",
       "<tr>\n",
       "       <td></td>          <th>coef</th>     <th>std err</th>      <th>t</th>      <th>P>|t|</th>  <th>[0.025</th>    <th>0.975]</th>  \n",
       "</tr>\n",
       "<tr>\n",
       "  <th>const</th>       <td>   -0.3687</td> <td>    0.067</td> <td>   -5.516</td> <td> 0.000</td> <td>   -0.500</td> <td>   -0.237</td>\n",
       "</tr>\n",
       "<tr>\n",
       "  <th>year</th>        <td>    1.0442</td> <td>    0.036</td> <td>   28.709</td> <td> 0.000</td> <td>    0.973</td> <td>    1.116</td>\n",
       "</tr>\n",
       "<tr>\n",
       "  <th>holiday</th>     <td>   -0.4097</td> <td>    0.116</td> <td>   -3.533</td> <td> 0.000</td> <td>   -0.637</td> <td>   -0.182</td>\n",
       "</tr>\n",
       "<tr>\n",
       "  <th>temperature</th> <td>    0.4401</td> <td>    0.036</td> <td>   12.083</td> <td> 0.000</td> <td>    0.369</td> <td>    0.512</td>\n",
       "</tr>\n",
       "<tr>\n",
       "  <th>windspeed</th>   <td>   -0.1199</td> <td>    0.019</td> <td>   -6.290</td> <td> 0.000</td> <td>   -0.157</td> <td>   -0.082</td>\n",
       "</tr>\n",
       "<tr>\n",
       "  <th>spring</th>      <td>   -0.3193</td> <td>    0.096</td> <td>   -3.337</td> <td> 0.001</td> <td>   -0.507</td> <td>   -0.131</td>\n",
       "</tr>\n",
       "<tr>\n",
       "  <th>summer</th>      <td>    0.1483</td> <td>    0.069</td> <td>    2.148</td> <td> 0.032</td> <td>    0.013</td> <td>    0.284</td>\n",
       "</tr>\n",
       "<tr>\n",
       "  <th>winter</th>      <td>    0.3951</td> <td>    0.080</td> <td>    4.951</td> <td> 0.000</td> <td>    0.238</td> <td>    0.552</td>\n",
       "</tr>\n",
       "<tr>\n",
       "  <th>Dec</th>         <td>   -0.1985</td> <td>    0.079</td> <td>   -2.520</td> <td> 0.012</td> <td>   -0.353</td> <td>   -0.044</td>\n",
       "</tr>\n",
       "<tr>\n",
       "  <th>Jan</th>         <td>   -0.2240</td> <td>    0.082</td> <td>   -2.738</td> <td> 0.006</td> <td>   -0.385</td> <td>   -0.063</td>\n",
       "</tr>\n",
       "<tr>\n",
       "  <th>July</th>        <td>   -0.2245</td> <td>    0.082</td> <td>   -2.725</td> <td> 0.007</td> <td>   -0.386</td> <td>   -0.063</td>\n",
       "</tr>\n",
       "<tr>\n",
       "  <th>Nov</th>         <td>   -0.1865</td> <td>    0.085</td> <td>   -2.198</td> <td> 0.028</td> <td>   -0.353</td> <td>   -0.020</td>\n",
       "</tr>\n",
       "<tr>\n",
       "  <th>Sep</th>         <td>    0.3040</td> <td>    0.076</td> <td>    3.992</td> <td> 0.000</td> <td>    0.154</td> <td>    0.454</td>\n",
       "</tr>\n",
       "<tr>\n",
       "  <th>Light Snow</th>  <td>   -1.3054</td> <td>    0.110</td> <td>  -11.908</td> <td> 0.000</td> <td>   -1.521</td> <td>   -1.090</td>\n",
       "</tr>\n",
       "<tr>\n",
       "  <th>Mist</th>        <td>   -0.3630</td> <td>    0.039</td> <td>   -9.359</td> <td> 0.000</td> <td>   -0.439</td> <td>   -0.287</td>\n",
       "</tr>\n",
       "</table>\n",
       "<table class=\"simpletable\">\n",
       "<tr>\n",
       "  <th>Omnibus:</th>       <td>70.031</td> <th>  Durbin-Watson:     </th> <td>   2.013</td>\n",
       "</tr>\n",
       "<tr>\n",
       "  <th>Prob(Omnibus):</th> <td> 0.000</td> <th>  Jarque-Bera (JB):  </th> <td> 175.566</td>\n",
       "</tr>\n",
       "<tr>\n",
       "  <th>Skew:</th>          <td>-0.702</td> <th>  Prob(JB):          </th> <td>7.52e-39</td>\n",
       "</tr>\n",
       "<tr>\n",
       "  <th>Kurtosis:</th>      <td> 5.508</td> <th>  Cond. No.          </th> <td>    10.7</td>\n",
       "</tr>\n",
       "</table><br/><br/>Warnings:<br/>[1] Standard Errors assume that the covariance matrix of the errors is correctly specified."
      ],
      "text/plain": [
       "<class 'statsmodels.iolib.summary.Summary'>\n",
       "\"\"\"\n",
       "                            OLS Regression Results                            \n",
       "==============================================================================\n",
       "Dep. Variable:                      y   R-squared:                       0.840\n",
       "Model:                            OLS   Adj. R-squared:                  0.835\n",
       "Method:                 Least Squares   F-statistic:                     185.4\n",
       "Date:                Mon, 05 Oct 2020   Prob (F-statistic):          1.57e-186\n",
       "Time:                        19:29:41   Log-Likelihood:                -256.56\n",
       "No. Observations:                 510   AIC:                             543.1\n",
       "Df Residuals:                     495   BIC:                             606.6\n",
       "Df Model:                          14                                         \n",
       "Covariance Type:            nonrobust                                         \n",
       "===============================================================================\n",
       "                  coef    std err          t      P>|t|      [0.025      0.975]\n",
       "-------------------------------------------------------------------------------\n",
       "const          -0.3687      0.067     -5.516      0.000      -0.500      -0.237\n",
       "year            1.0442      0.036     28.709      0.000       0.973       1.116\n",
       "holiday        -0.4097      0.116     -3.533      0.000      -0.637      -0.182\n",
       "temperature     0.4401      0.036     12.083      0.000       0.369       0.512\n",
       "windspeed      -0.1199      0.019     -6.290      0.000      -0.157      -0.082\n",
       "spring         -0.3193      0.096     -3.337      0.001      -0.507      -0.131\n",
       "summer          0.1483      0.069      2.148      0.032       0.013       0.284\n",
       "winter          0.3951      0.080      4.951      0.000       0.238       0.552\n",
       "Dec            -0.1985      0.079     -2.520      0.012      -0.353      -0.044\n",
       "Jan            -0.2240      0.082     -2.738      0.006      -0.385      -0.063\n",
       "July           -0.2245      0.082     -2.725      0.007      -0.386      -0.063\n",
       "Nov            -0.1865      0.085     -2.198      0.028      -0.353      -0.020\n",
       "Sep             0.3040      0.076      3.992      0.000       0.154       0.454\n",
       "Light Snow     -1.3054      0.110    -11.908      0.000      -1.521      -1.090\n",
       "Mist           -0.3630      0.039     -9.359      0.000      -0.439      -0.287\n",
       "==============================================================================\n",
       "Omnibus:                       70.031   Durbin-Watson:                   2.013\n",
       "Prob(Omnibus):                  0.000   Jarque-Bera (JB):              175.566\n",
       "Skew:                          -0.702   Prob(JB):                     7.52e-39\n",
       "Kurtosis:                       5.508   Cond. No.                         10.7\n",
       "==============================================================================\n",
       "\n",
       "Warnings:\n",
       "[1] Standard Errors assume that the covariance matrix of the errors is correctly specified.\n",
       "\"\"\""
      ]
     },
     "execution_count": 38,
     "metadata": {},
     "output_type": "execute_result"
    }
   ],
   "source": [
    "lm.summary()"
   ]
  },
  {
   "cell_type": "code",
   "execution_count": 39,
   "metadata": {},
   "outputs": [
    {
     "data": {
      "text/html": [
       "<div>\n",
       "<style scoped>\n",
       "    .dataframe tbody tr th:only-of-type {\n",
       "        vertical-align: middle;\n",
       "    }\n",
       "\n",
       "    .dataframe tbody tr th {\n",
       "        vertical-align: top;\n",
       "    }\n",
       "\n",
       "    .dataframe thead th {\n",
       "        text-align: right;\n",
       "    }\n",
       "</style>\n",
       "<table border=\"1\" class=\"dataframe\">\n",
       "  <thead>\n",
       "    <tr style=\"text-align: right;\">\n",
       "      <th></th>\n",
       "      <th>Features</th>\n",
       "      <th>VIF</th>\n",
       "    </tr>\n",
       "  </thead>\n",
       "  <tbody>\n",
       "    <tr>\n",
       "      <th>0</th>\n",
       "      <td>const</td>\n",
       "      <td>13.81</td>\n",
       "    </tr>\n",
       "    <tr>\n",
       "      <th>5</th>\n",
       "      <td>spring</td>\n",
       "      <td>5.21</td>\n",
       "    </tr>\n",
       "    <tr>\n",
       "      <th>3</th>\n",
       "      <td>temperature</td>\n",
       "      <td>4.10</td>\n",
       "    </tr>\n",
       "    <tr>\n",
       "      <th>7</th>\n",
       "      <td>winter</td>\n",
       "      <td>3.68</td>\n",
       "    </tr>\n",
       "    <tr>\n",
       "      <th>6</th>\n",
       "      <td>summer</td>\n",
       "      <td>2.73</td>\n",
       "    </tr>\n",
       "    <tr>\n",
       "      <th>11</th>\n",
       "      <td>Nov</td>\n",
       "      <td>1.75</td>\n",
       "    </tr>\n",
       "    <tr>\n",
       "      <th>9</th>\n",
       "      <td>Jan</td>\n",
       "      <td>1.67</td>\n",
       "    </tr>\n",
       "    <tr>\n",
       "      <th>8</th>\n",
       "      <td>Dec</td>\n",
       "      <td>1.48</td>\n",
       "    </tr>\n",
       "    <tr>\n",
       "      <th>10</th>\n",
       "      <td>July</td>\n",
       "      <td>1.48</td>\n",
       "    </tr>\n",
       "    <tr>\n",
       "      <th>12</th>\n",
       "      <td>Sep</td>\n",
       "      <td>1.33</td>\n",
       "    </tr>\n",
       "    <tr>\n",
       "      <th>4</th>\n",
       "      <td>windspeed</td>\n",
       "      <td>1.12</td>\n",
       "    </tr>\n",
       "    <tr>\n",
       "      <th>13</th>\n",
       "      <td>Light Snow</td>\n",
       "      <td>1.06</td>\n",
       "    </tr>\n",
       "    <tr>\n",
       "      <th>14</th>\n",
       "      <td>Mist</td>\n",
       "      <td>1.05</td>\n",
       "    </tr>\n",
       "    <tr>\n",
       "      <th>2</th>\n",
       "      <td>holiday</td>\n",
       "      <td>1.03</td>\n",
       "    </tr>\n",
       "    <tr>\n",
       "      <th>1</th>\n",
       "      <td>year</td>\n",
       "      <td>1.02</td>\n",
       "    </tr>\n",
       "  </tbody>\n",
       "</table>\n",
       "</div>"
      ],
      "text/plain": [
       "       Features    VIF\n",
       "0         const  13.81\n",
       "5        spring   5.21\n",
       "3   temperature   4.10\n",
       "7        winter   3.68\n",
       "6        summer   2.73\n",
       "11          Nov   1.75\n",
       "9           Jan   1.67\n",
       "8           Dec   1.48\n",
       "10         July   1.48\n",
       "12          Sep   1.33\n",
       "4     windspeed   1.12\n",
       "13   Light Snow   1.06\n",
       "14         Mist   1.05\n",
       "2       holiday   1.03\n",
       "1          year   1.02"
      ]
     },
     "execution_count": 39,
     "metadata": {},
     "output_type": "execute_result"
    }
   ],
   "source": [
    "# calculating the VIF values\n",
    "vif = pd.DataFrame()\n",
    "vif['Features'] = X_train_sm1.columns\n",
    "vif['VIF'] = [variance_inflation_factor(X_train_sm1.values, i) for i in range(X_train_sm1.shape[1])]\n",
    "vif['VIF'] = round(vif['VIF'], 2)\n",
    "vif = vif.sort_values(by = \"VIF\", ascending = False)\n",
    "vif"
   ]
  },
  {
   "cell_type": "code",
   "execution_count": 40,
   "metadata": {},
   "outputs": [],
   "source": [
    "# we remove spring since its vif is high\n",
    "X_train_rfe = X_train_rfe.drop('spring', axis = 1)"
   ]
  },
  {
   "cell_type": "code",
   "execution_count": 41,
   "metadata": {},
   "outputs": [],
   "source": [
    "# creating a constant to the X_train_rfe dataframe\n",
    "X_train_sm1 = sm.add_constant(X_train_rfe)\n",
    "lm = sm.OLS(y_train,X_train_sm1).fit()"
   ]
  },
  {
   "cell_type": "code",
   "execution_count": 42,
   "metadata": {},
   "outputs": [
    {
     "data": {
      "text/html": [
       "<table class=\"simpletable\">\n",
       "<caption>OLS Regression Results</caption>\n",
       "<tr>\n",
       "  <th>Dep. Variable:</th>            <td>y</td>        <th>  R-squared:         </th> <td>   0.836</td> \n",
       "</tr>\n",
       "<tr>\n",
       "  <th>Model:</th>                   <td>OLS</td>       <th>  Adj. R-squared:    </th> <td>   0.832</td> \n",
       "</tr>\n",
       "<tr>\n",
       "  <th>Method:</th>             <td>Least Squares</td>  <th>  F-statistic:       </th> <td>   194.9</td> \n",
       "</tr>\n",
       "<tr>\n",
       "  <th>Date:</th>             <td>Mon, 05 Oct 2020</td> <th>  Prob (F-statistic):</th> <td>2.65e-185</td>\n",
       "</tr>\n",
       "<tr>\n",
       "  <th>Time:</th>                 <td>19:30:38</td>     <th>  Log-Likelihood:    </th> <td> -262.24</td> \n",
       "</tr>\n",
       "<tr>\n",
       "  <th>No. Observations:</th>      <td>   510</td>      <th>  AIC:               </th> <td>   552.5</td> \n",
       "</tr>\n",
       "<tr>\n",
       "  <th>Df Residuals:</th>          <td>   496</td>      <th>  BIC:               </th> <td>   611.8</td> \n",
       "</tr>\n",
       "<tr>\n",
       "  <th>Df Model:</th>              <td>    13</td>      <th>                     </th>     <td> </td>    \n",
       "</tr>\n",
       "<tr>\n",
       "  <th>Covariance Type:</th>      <td>nonrobust</td>    <th>                     </th>     <td> </td>    \n",
       "</tr>\n",
       "</table>\n",
       "<table class=\"simpletable\">\n",
       "<tr>\n",
       "       <td></td>          <th>coef</th>     <th>std err</th>      <th>t</th>      <th>P>|t|</th>  <th>[0.025</th>    <th>0.975]</th>  \n",
       "</tr>\n",
       "<tr>\n",
       "  <th>const</th>       <td>   -0.5437</td> <td>    0.042</td> <td>  -12.988</td> <td> 0.000</td> <td>   -0.626</td> <td>   -0.461</td>\n",
       "</tr>\n",
       "<tr>\n",
       "  <th>year</th>        <td>    1.0385</td> <td>    0.037</td> <td>   28.296</td> <td> 0.000</td> <td>    0.966</td> <td>    1.111</td>\n",
       "</tr>\n",
       "<tr>\n",
       "  <th>holiday</th>     <td>   -0.4283</td> <td>    0.117</td> <td>   -3.660</td> <td> 0.000</td> <td>   -0.658</td> <td>   -0.198</td>\n",
       "</tr>\n",
       "<tr>\n",
       "  <th>temperature</th> <td>    0.5238</td> <td>    0.027</td> <td>   19.637</td> <td> 0.000</td> <td>    0.471</td> <td>    0.576</td>\n",
       "</tr>\n",
       "<tr>\n",
       "  <th>windspeed</th>   <td>   -0.1254</td> <td>    0.019</td> <td>   -6.539</td> <td> 0.000</td> <td>   -0.163</td> <td>   -0.088</td>\n",
       "</tr>\n",
       "<tr>\n",
       "  <th>summer</th>      <td>    0.3069</td> <td>    0.051</td> <td>    6.064</td> <td> 0.000</td> <td>    0.207</td> <td>    0.406</td>\n",
       "</tr>\n",
       "<tr>\n",
       "  <th>winter</th>      <td>    0.5740</td> <td>    0.060</td> <td>    9.609</td> <td> 0.000</td> <td>    0.457</td> <td>    0.691</td>\n",
       "</tr>\n",
       "<tr>\n",
       "  <th>Dec</th>         <td>   -0.1699</td> <td>    0.079</td> <td>   -2.149</td> <td> 0.032</td> <td>   -0.325</td> <td>   -0.015</td>\n",
       "</tr>\n",
       "<tr>\n",
       "  <th>Jan</th>         <td>   -0.2467</td> <td>    0.082</td> <td>   -2.994</td> <td> 0.003</td> <td>   -0.409</td> <td>   -0.085</td>\n",
       "</tr>\n",
       "<tr>\n",
       "  <th>July</th>        <td>   -0.1697</td> <td>    0.082</td> <td>   -2.081</td> <td> 0.038</td> <td>   -0.330</td> <td>   -0.009</td>\n",
       "</tr>\n",
       "<tr>\n",
       "  <th>Nov</th>         <td>   -0.1351</td> <td>    0.084</td> <td>   -1.602</td> <td> 0.110</td> <td>   -0.301</td> <td>    0.031</td>\n",
       "</tr>\n",
       "<tr>\n",
       "  <th>Sep</th>         <td>    0.3797</td> <td>    0.073</td> <td>    5.170</td> <td> 0.000</td> <td>    0.235</td> <td>    0.524</td>\n",
       "</tr>\n",
       "<tr>\n",
       "  <th>Light Snow</th>  <td>   -1.2900</td> <td>    0.111</td> <td>  -11.659</td> <td> 0.000</td> <td>   -1.507</td> <td>   -1.073</td>\n",
       "</tr>\n",
       "<tr>\n",
       "  <th>Mist</th>        <td>   -0.3579</td> <td>    0.039</td> <td>   -9.142</td> <td> 0.000</td> <td>   -0.435</td> <td>   -0.281</td>\n",
       "</tr>\n",
       "</table>\n",
       "<table class=\"simpletable\">\n",
       "<tr>\n",
       "  <th>Omnibus:</th>       <td>59.040</td> <th>  Durbin-Watson:     </th> <td>   2.049</td>\n",
       "</tr>\n",
       "<tr>\n",
       "  <th>Prob(Omnibus):</th> <td> 0.000</td> <th>  Jarque-Bera (JB):  </th> <td> 125.091</td>\n",
       "</tr>\n",
       "<tr>\n",
       "  <th>Skew:</th>          <td>-0.650</td> <th>  Prob(JB):          </th> <td>6.87e-28</td>\n",
       "</tr>\n",
       "<tr>\n",
       "  <th>Kurtosis:</th>      <td> 5.048</td> <th>  Cond. No.          </th> <td>    8.30</td>\n",
       "</tr>\n",
       "</table><br/><br/>Warnings:<br/>[1] Standard Errors assume that the covariance matrix of the errors is correctly specified."
      ],
      "text/plain": [
       "<class 'statsmodels.iolib.summary.Summary'>\n",
       "\"\"\"\n",
       "                            OLS Regression Results                            \n",
       "==============================================================================\n",
       "Dep. Variable:                      y   R-squared:                       0.836\n",
       "Model:                            OLS   Adj. R-squared:                  0.832\n",
       "Method:                 Least Squares   F-statistic:                     194.9\n",
       "Date:                Mon, 05 Oct 2020   Prob (F-statistic):          2.65e-185\n",
       "Time:                        19:30:38   Log-Likelihood:                -262.24\n",
       "No. Observations:                 510   AIC:                             552.5\n",
       "Df Residuals:                     496   BIC:                             611.8\n",
       "Df Model:                          13                                         \n",
       "Covariance Type:            nonrobust                                         \n",
       "===============================================================================\n",
       "                  coef    std err          t      P>|t|      [0.025      0.975]\n",
       "-------------------------------------------------------------------------------\n",
       "const          -0.5437      0.042    -12.988      0.000      -0.626      -0.461\n",
       "year            1.0385      0.037     28.296      0.000       0.966       1.111\n",
       "holiday        -0.4283      0.117     -3.660      0.000      -0.658      -0.198\n",
       "temperature     0.5238      0.027     19.637      0.000       0.471       0.576\n",
       "windspeed      -0.1254      0.019     -6.539      0.000      -0.163      -0.088\n",
       "summer          0.3069      0.051      6.064      0.000       0.207       0.406\n",
       "winter          0.5740      0.060      9.609      0.000       0.457       0.691\n",
       "Dec            -0.1699      0.079     -2.149      0.032      -0.325      -0.015\n",
       "Jan            -0.2467      0.082     -2.994      0.003      -0.409      -0.085\n",
       "July           -0.1697      0.082     -2.081      0.038      -0.330      -0.009\n",
       "Nov            -0.1351      0.084     -1.602      0.110      -0.301       0.031\n",
       "Sep             0.3797      0.073      5.170      0.000       0.235       0.524\n",
       "Light Snow     -1.2900      0.111    -11.659      0.000      -1.507      -1.073\n",
       "Mist           -0.3579      0.039     -9.142      0.000      -0.435      -0.281\n",
       "==============================================================================\n",
       "Omnibus:                       59.040   Durbin-Watson:                   2.049\n",
       "Prob(Omnibus):                  0.000   Jarque-Bera (JB):              125.091\n",
       "Skew:                          -0.650   Prob(JB):                     6.87e-28\n",
       "Kurtosis:                       5.048   Cond. No.                         8.30\n",
       "==============================================================================\n",
       "\n",
       "Warnings:\n",
       "[1] Standard Errors assume that the covariance matrix of the errors is correctly specified.\n",
       "\"\"\""
      ]
     },
     "execution_count": 42,
     "metadata": {},
     "output_type": "execute_result"
    }
   ],
   "source": [
    "lm.summary()"
   ]
  },
  {
   "cell_type": "code",
   "execution_count": 43,
   "metadata": {},
   "outputs": [],
   "source": [
    "# now we remove Nov as well since it is just at the margin at 0.5\n",
    "X_train_rfe = X_train_rfe.drop('Nov', axis = 1)"
   ]
  },
  {
   "cell_type": "code",
   "execution_count": 44,
   "metadata": {},
   "outputs": [],
   "source": [
    "# creating a constant to the X_train_rfe dataframe\n",
    "X_train_sm1 = sm.add_constant(X_train_rfe)\n",
    "lm = sm.OLS(y_train,X_train_sm1).fit()"
   ]
  },
  {
   "cell_type": "code",
   "execution_count": 45,
   "metadata": {},
   "outputs": [
    {
     "data": {
      "text/html": [
       "<table class=\"simpletable\">\n",
       "<caption>OLS Regression Results</caption>\n",
       "<tr>\n",
       "  <th>Dep. Variable:</th>            <td>y</td>        <th>  R-squared:         </th> <td>   0.835</td> \n",
       "</tr>\n",
       "<tr>\n",
       "  <th>Model:</th>                   <td>OLS</td>       <th>  Adj. R-squared:    </th> <td>   0.831</td> \n",
       "</tr>\n",
       "<tr>\n",
       "  <th>Method:</th>             <td>Least Squares</td>  <th>  F-statistic:       </th> <td>   210.2</td> \n",
       "</tr>\n",
       "<tr>\n",
       "  <th>Date:</th>             <td>Mon, 05 Oct 2020</td> <th>  Prob (F-statistic):</th> <td>6.40e-186</td>\n",
       "</tr>\n",
       "<tr>\n",
       "  <th>Time:</th>                 <td>19:30:40</td>     <th>  Log-Likelihood:    </th> <td> -263.55</td> \n",
       "</tr>\n",
       "<tr>\n",
       "  <th>No. Observations:</th>      <td>   510</td>      <th>  AIC:               </th> <td>   553.1</td> \n",
       "</tr>\n",
       "<tr>\n",
       "  <th>Df Residuals:</th>          <td>   497</td>      <th>  BIC:               </th> <td>   608.2</td> \n",
       "</tr>\n",
       "<tr>\n",
       "  <th>Df Model:</th>              <td>    12</td>      <th>                     </th>     <td> </td>    \n",
       "</tr>\n",
       "<tr>\n",
       "  <th>Covariance Type:</th>      <td>nonrobust</td>    <th>                     </th>     <td> </td>    \n",
       "</tr>\n",
       "</table>\n",
       "<table class=\"simpletable\">\n",
       "<tr>\n",
       "       <td></td>          <th>coef</th>     <th>std err</th>      <th>t</th>      <th>P>|t|</th>  <th>[0.025</th>    <th>0.975]</th>  \n",
       "</tr>\n",
       "<tr>\n",
       "  <th>const</th>       <td>   -0.5514</td> <td>    0.042</td> <td>  -13.242</td> <td> 0.000</td> <td>   -0.633</td> <td>   -0.470</td>\n",
       "</tr>\n",
       "<tr>\n",
       "  <th>year</th>        <td>    1.0386</td> <td>    0.037</td> <td>   28.254</td> <td> 0.000</td> <td>    0.966</td> <td>    1.111</td>\n",
       "</tr>\n",
       "<tr>\n",
       "  <th>holiday</th>     <td>   -0.4495</td> <td>    0.116</td> <td>   -3.861</td> <td> 0.000</td> <td>   -0.678</td> <td>   -0.221</td>\n",
       "</tr>\n",
       "<tr>\n",
       "  <th>temperature</th> <td>    0.5318</td> <td>    0.026</td> <td>   20.263</td> <td> 0.000</td> <td>    0.480</td> <td>    0.583</td>\n",
       "</tr>\n",
       "<tr>\n",
       "  <th>windspeed</th>   <td>   -0.1255</td> <td>    0.019</td> <td>   -6.530</td> <td> 0.000</td> <td>   -0.163</td> <td>   -0.088</td>\n",
       "</tr>\n",
       "<tr>\n",
       "  <th>summer</th>      <td>    0.3120</td> <td>    0.051</td> <td>    6.170</td> <td> 0.000</td> <td>    0.213</td> <td>    0.411</td>\n",
       "</tr>\n",
       "<tr>\n",
       "  <th>winter</th>      <td>    0.5252</td> <td>    0.051</td> <td>   10.206</td> <td> 0.000</td> <td>    0.424</td> <td>    0.626</td>\n",
       "</tr>\n",
       "<tr>\n",
       "  <th>Dec</th>         <td>   -0.1215</td> <td>    0.073</td> <td>   -1.660</td> <td> 0.097</td> <td>   -0.265</td> <td>    0.022</td>\n",
       "</tr>\n",
       "<tr>\n",
       "  <th>Jan</th>         <td>   -0.2274</td> <td>    0.082</td> <td>   -2.786</td> <td> 0.006</td> <td>   -0.388</td> <td>   -0.067</td>\n",
       "</tr>\n",
       "<tr>\n",
       "  <th>July</th>        <td>   -0.1741</td> <td>    0.082</td> <td>   -2.133</td> <td> 0.033</td> <td>   -0.335</td> <td>   -0.014</td>\n",
       "</tr>\n",
       "<tr>\n",
       "  <th>Sep</th>         <td>    0.3921</td> <td>    0.073</td> <td>    5.361</td> <td> 0.000</td> <td>    0.248</td> <td>    0.536</td>\n",
       "</tr>\n",
       "<tr>\n",
       "  <th>Light Snow</th>  <td>   -1.2778</td> <td>    0.111</td> <td>  -11.558</td> <td> 0.000</td> <td>   -1.495</td> <td>   -1.061</td>\n",
       "</tr>\n",
       "<tr>\n",
       "  <th>Mist</th>        <td>   -0.3558</td> <td>    0.039</td> <td>   -9.080</td> <td> 0.000</td> <td>   -0.433</td> <td>   -0.279</td>\n",
       "</tr>\n",
       "</table>\n",
       "<table class=\"simpletable\">\n",
       "<tr>\n",
       "  <th>Omnibus:</th>       <td>55.258</td> <th>  Durbin-Watson:     </th> <td>   2.062</td>\n",
       "</tr>\n",
       "<tr>\n",
       "  <th>Prob(Omnibus):</th> <td> 0.000</td> <th>  Jarque-Bera (JB):  </th> <td> 112.630</td>\n",
       "</tr>\n",
       "<tr>\n",
       "  <th>Skew:</th>          <td>-0.625</td> <th>  Prob(JB):          </th> <td>3.49e-25</td>\n",
       "</tr>\n",
       "<tr>\n",
       "  <th>Kurtosis:</th>      <td> 4.933</td> <th>  Cond. No.          </th> <td>    8.21</td>\n",
       "</tr>\n",
       "</table><br/><br/>Warnings:<br/>[1] Standard Errors assume that the covariance matrix of the errors is correctly specified."
      ],
      "text/plain": [
       "<class 'statsmodels.iolib.summary.Summary'>\n",
       "\"\"\"\n",
       "                            OLS Regression Results                            \n",
       "==============================================================================\n",
       "Dep. Variable:                      y   R-squared:                       0.835\n",
       "Model:                            OLS   Adj. R-squared:                  0.831\n",
       "Method:                 Least Squares   F-statistic:                     210.2\n",
       "Date:                Mon, 05 Oct 2020   Prob (F-statistic):          6.40e-186\n",
       "Time:                        19:30:40   Log-Likelihood:                -263.55\n",
       "No. Observations:                 510   AIC:                             553.1\n",
       "Df Residuals:                     497   BIC:                             608.2\n",
       "Df Model:                          12                                         \n",
       "Covariance Type:            nonrobust                                         \n",
       "===============================================================================\n",
       "                  coef    std err          t      P>|t|      [0.025      0.975]\n",
       "-------------------------------------------------------------------------------\n",
       "const          -0.5514      0.042    -13.242      0.000      -0.633      -0.470\n",
       "year            1.0386      0.037     28.254      0.000       0.966       1.111\n",
       "holiday        -0.4495      0.116     -3.861      0.000      -0.678      -0.221\n",
       "temperature     0.5318      0.026     20.263      0.000       0.480       0.583\n",
       "windspeed      -0.1255      0.019     -6.530      0.000      -0.163      -0.088\n",
       "summer          0.3120      0.051      6.170      0.000       0.213       0.411\n",
       "winter          0.5252      0.051     10.206      0.000       0.424       0.626\n",
       "Dec            -0.1215      0.073     -1.660      0.097      -0.265       0.022\n",
       "Jan            -0.2274      0.082     -2.786      0.006      -0.388      -0.067\n",
       "July           -0.1741      0.082     -2.133      0.033      -0.335      -0.014\n",
       "Sep             0.3921      0.073      5.361      0.000       0.248       0.536\n",
       "Light Snow     -1.2778      0.111    -11.558      0.000      -1.495      -1.061\n",
       "Mist           -0.3558      0.039     -9.080      0.000      -0.433      -0.279\n",
       "==============================================================================\n",
       "Omnibus:                       55.258   Durbin-Watson:                   2.062\n",
       "Prob(Omnibus):                  0.000   Jarque-Bera (JB):              112.630\n",
       "Skew:                          -0.625   Prob(JB):                     3.49e-25\n",
       "Kurtosis:                       4.933   Cond. No.                         8.21\n",
       "==============================================================================\n",
       "\n",
       "Warnings:\n",
       "[1] Standard Errors assume that the covariance matrix of the errors is correctly specified.\n",
       "\"\"\""
      ]
     },
     "execution_count": 45,
     "metadata": {},
     "output_type": "execute_result"
    }
   ],
   "source": [
    "lm.summary()"
   ]
  },
  {
   "cell_type": "code",
   "execution_count": 46,
   "metadata": {},
   "outputs": [],
   "source": [
    "# now we remove Dec since its p values are high\n",
    "X_train_rfe = X_train_rfe.drop('Dec', axis = 1)"
   ]
  },
  {
   "cell_type": "code",
   "execution_count": 47,
   "metadata": {},
   "outputs": [],
   "source": [
    "# creating a constant to the X_train_rfe dataframe\n",
    "X_train_sm1 = sm.add_constant(X_train_rfe)\n",
    "lm = sm.OLS(y_train,X_train_sm1).fit()"
   ]
  },
  {
   "cell_type": "code",
   "execution_count": 48,
   "metadata": {},
   "outputs": [
    {
     "data": {
      "text/html": [
       "<table class=\"simpletable\">\n",
       "<caption>OLS Regression Results</caption>\n",
       "<tr>\n",
       "  <th>Dep. Variable:</th>            <td>y</td>        <th>  R-squared:         </th> <td>   0.835</td> \n",
       "</tr>\n",
       "<tr>\n",
       "  <th>Model:</th>                   <td>OLS</td>       <th>  Adj. R-squared:    </th> <td>   0.831</td> \n",
       "</tr>\n",
       "<tr>\n",
       "  <th>Method:</th>             <td>Least Squares</td>  <th>  F-statistic:       </th> <td>   228.3</td> \n",
       "</tr>\n",
       "<tr>\n",
       "  <th>Date:</th>             <td>Mon, 05 Oct 2020</td> <th>  Prob (F-statistic):</th> <td>1.63e-186</td>\n",
       "</tr>\n",
       "<tr>\n",
       "  <th>Time:</th>                 <td>19:30:42</td>     <th>  Log-Likelihood:    </th> <td> -264.96</td> \n",
       "</tr>\n",
       "<tr>\n",
       "  <th>No. Observations:</th>      <td>   510</td>      <th>  AIC:               </th> <td>   553.9</td> \n",
       "</tr>\n",
       "<tr>\n",
       "  <th>Df Residuals:</th>          <td>   498</td>      <th>  BIC:               </th> <td>   604.7</td> \n",
       "</tr>\n",
       "<tr>\n",
       "  <th>Df Model:</th>              <td>    11</td>      <th>                     </th>     <td> </td>    \n",
       "</tr>\n",
       "<tr>\n",
       "  <th>Covariance Type:</th>      <td>nonrobust</td>    <th>                     </th>     <td> </td>    \n",
       "</tr>\n",
       "</table>\n",
       "<table class=\"simpletable\">\n",
       "<tr>\n",
       "       <td></td>          <th>coef</th>     <th>std err</th>      <th>t</th>      <th>P>|t|</th>  <th>[0.025</th>    <th>0.975]</th>  \n",
       "</tr>\n",
       "<tr>\n",
       "  <th>const</th>       <td>   -0.5649</td> <td>    0.041</td> <td>  -13.805</td> <td> 0.000</td> <td>   -0.645</td> <td>   -0.485</td>\n",
       "</tr>\n",
       "<tr>\n",
       "  <th>year</th>        <td>    1.0388</td> <td>    0.037</td> <td>   28.211</td> <td> 0.000</td> <td>    0.966</td> <td>    1.111</td>\n",
       "</tr>\n",
       "<tr>\n",
       "  <th>holiday</th>     <td>   -0.4432</td> <td>    0.117</td> <td>   -3.802</td> <td> 0.000</td> <td>   -0.672</td> <td>   -0.214</td>\n",
       "</tr>\n",
       "<tr>\n",
       "  <th>temperature</th> <td>    0.5438</td> <td>    0.025</td> <td>   21.516</td> <td> 0.000</td> <td>    0.494</td> <td>    0.593</td>\n",
       "</tr>\n",
       "<tr>\n",
       "  <th>windspeed</th>   <td>   -0.1221</td> <td>    0.019</td> <td>   -6.380</td> <td> 0.000</td> <td>   -0.160</td> <td>   -0.085</td>\n",
       "</tr>\n",
       "<tr>\n",
       "  <th>summer</th>      <td>    0.3218</td> <td>    0.050</td> <td>    6.396</td> <td> 0.000</td> <td>    0.223</td> <td>    0.421</td>\n",
       "</tr>\n",
       "<tr>\n",
       "  <th>winter</th>      <td>    0.5137</td> <td>    0.051</td> <td>   10.057</td> <td> 0.000</td> <td>    0.413</td> <td>    0.614</td>\n",
       "</tr>\n",
       "<tr>\n",
       "  <th>Jan</th>         <td>   -0.1972</td> <td>    0.080</td> <td>   -2.474</td> <td> 0.014</td> <td>   -0.354</td> <td>   -0.041</td>\n",
       "</tr>\n",
       "<tr>\n",
       "  <th>July</th>        <td>   -0.1773</td> <td>    0.082</td> <td>   -2.169</td> <td> 0.031</td> <td>   -0.338</td> <td>   -0.017</td>\n",
       "</tr>\n",
       "<tr>\n",
       "  <th>Sep</th>         <td>    0.4001</td> <td>    0.073</td> <td>    5.473</td> <td> 0.000</td> <td>    0.256</td> <td>    0.544</td>\n",
       "</tr>\n",
       "<tr>\n",
       "  <th>Light Snow</th>  <td>   -1.2678</td> <td>    0.111</td> <td>  -11.465</td> <td> 0.000</td> <td>   -1.485</td> <td>   -1.051</td>\n",
       "</tr>\n",
       "<tr>\n",
       "  <th>Mist</th>        <td>   -0.3558</td> <td>    0.039</td> <td>   -9.065</td> <td> 0.000</td> <td>   -0.433</td> <td>   -0.279</td>\n",
       "</tr>\n",
       "</table>\n",
       "<table class=\"simpletable\">\n",
       "<tr>\n",
       "  <th>Omnibus:</th>       <td>53.048</td> <th>  Durbin-Watson:     </th> <td>   2.071</td>\n",
       "</tr>\n",
       "<tr>\n",
       "  <th>Prob(Omnibus):</th> <td> 0.000</td> <th>  Jarque-Bera (JB):  </th> <td> 106.062</td>\n",
       "</tr>\n",
       "<tr>\n",
       "  <th>Skew:</th>          <td>-0.609</td> <th>  Prob(JB):          </th> <td>9.31e-24</td>\n",
       "</tr>\n",
       "<tr>\n",
       "  <th>Kurtosis:</th>      <td> 4.873</td> <th>  Cond. No.          </th> <td>    8.17</td>\n",
       "</tr>\n",
       "</table><br/><br/>Warnings:<br/>[1] Standard Errors assume that the covariance matrix of the errors is correctly specified."
      ],
      "text/plain": [
       "<class 'statsmodels.iolib.summary.Summary'>\n",
       "\"\"\"\n",
       "                            OLS Regression Results                            \n",
       "==============================================================================\n",
       "Dep. Variable:                      y   R-squared:                       0.835\n",
       "Model:                            OLS   Adj. R-squared:                  0.831\n",
       "Method:                 Least Squares   F-statistic:                     228.3\n",
       "Date:                Mon, 05 Oct 2020   Prob (F-statistic):          1.63e-186\n",
       "Time:                        19:30:42   Log-Likelihood:                -264.96\n",
       "No. Observations:                 510   AIC:                             553.9\n",
       "Df Residuals:                     498   BIC:                             604.7\n",
       "Df Model:                          11                                         \n",
       "Covariance Type:            nonrobust                                         \n",
       "===============================================================================\n",
       "                  coef    std err          t      P>|t|      [0.025      0.975]\n",
       "-------------------------------------------------------------------------------\n",
       "const          -0.5649      0.041    -13.805      0.000      -0.645      -0.485\n",
       "year            1.0388      0.037     28.211      0.000       0.966       1.111\n",
       "holiday        -0.4432      0.117     -3.802      0.000      -0.672      -0.214\n",
       "temperature     0.5438      0.025     21.516      0.000       0.494       0.593\n",
       "windspeed      -0.1221      0.019     -6.380      0.000      -0.160      -0.085\n",
       "summer          0.3218      0.050      6.396      0.000       0.223       0.421\n",
       "winter          0.5137      0.051     10.057      0.000       0.413       0.614\n",
       "Jan            -0.1972      0.080     -2.474      0.014      -0.354      -0.041\n",
       "July           -0.1773      0.082     -2.169      0.031      -0.338      -0.017\n",
       "Sep             0.4001      0.073      5.473      0.000       0.256       0.544\n",
       "Light Snow     -1.2678      0.111    -11.465      0.000      -1.485      -1.051\n",
       "Mist           -0.3558      0.039     -9.065      0.000      -0.433      -0.279\n",
       "==============================================================================\n",
       "Omnibus:                       53.048   Durbin-Watson:                   2.071\n",
       "Prob(Omnibus):                  0.000   Jarque-Bera (JB):              106.062\n",
       "Skew:                          -0.609   Prob(JB):                     9.31e-24\n",
       "Kurtosis:                       4.873   Cond. No.                         8.17\n",
       "==============================================================================\n",
       "\n",
       "Warnings:\n",
       "[1] Standard Errors assume that the covariance matrix of the errors is correctly specified.\n",
       "\"\"\""
      ]
     },
     "execution_count": 48,
     "metadata": {},
     "output_type": "execute_result"
    }
   ],
   "source": [
    "lm.summary()"
   ]
  },
  {
   "cell_type": "code",
   "execution_count": 49,
   "metadata": {},
   "outputs": [],
   "source": [
    "# Now all the p values are within range"
   ]
  },
  {
   "cell_type": "code",
   "execution_count": 50,
   "metadata": {},
   "outputs": [],
   "source": [
    "# dropping the constant\n",
    "X = X_train_sm1.drop('const', axis = 1)"
   ]
  },
  {
   "cell_type": "code",
   "execution_count": 51,
   "metadata": {},
   "outputs": [
    {
     "data": {
      "text/html": [
       "<div>\n",
       "<style scoped>\n",
       "    .dataframe tbody tr th:only-of-type {\n",
       "        vertical-align: middle;\n",
       "    }\n",
       "\n",
       "    .dataframe tbody tr th {\n",
       "        vertical-align: top;\n",
       "    }\n",
       "\n",
       "    .dataframe thead th {\n",
       "        text-align: right;\n",
       "    }\n",
       "</style>\n",
       "<table border=\"1\" class=\"dataframe\">\n",
       "  <thead>\n",
       "    <tr style=\"text-align: right;\">\n",
       "      <th></th>\n",
       "      <th>Features</th>\n",
       "      <th>VIF</th>\n",
       "    </tr>\n",
       "  </thead>\n",
       "  <tbody>\n",
       "    <tr>\n",
       "      <th>2</th>\n",
       "      <td>temperature</td>\n",
       "      <td>1.92</td>\n",
       "    </tr>\n",
       "    <tr>\n",
       "      <th>0</th>\n",
       "      <td>year</td>\n",
       "      <td>1.63</td>\n",
       "    </tr>\n",
       "    <tr>\n",
       "      <th>6</th>\n",
       "      <td>Jan</td>\n",
       "      <td>1.50</td>\n",
       "    </tr>\n",
       "    <tr>\n",
       "      <th>5</th>\n",
       "      <td>winter</td>\n",
       "      <td>1.46</td>\n",
       "    </tr>\n",
       "    <tr>\n",
       "      <th>10</th>\n",
       "      <td>Mist</td>\n",
       "      <td>1.44</td>\n",
       "    </tr>\n",
       "    <tr>\n",
       "      <th>4</th>\n",
       "      <td>summer</td>\n",
       "      <td>1.33</td>\n",
       "    </tr>\n",
       "    <tr>\n",
       "      <th>7</th>\n",
       "      <td>July</td>\n",
       "      <td>1.33</td>\n",
       "    </tr>\n",
       "    <tr>\n",
       "      <th>8</th>\n",
       "      <td>Sep</td>\n",
       "      <td>1.19</td>\n",
       "    </tr>\n",
       "    <tr>\n",
       "      <th>3</th>\n",
       "      <td>windspeed</td>\n",
       "      <td>1.10</td>\n",
       "    </tr>\n",
       "    <tr>\n",
       "      <th>9</th>\n",
       "      <td>Light Snow</td>\n",
       "      <td>1.07</td>\n",
       "    </tr>\n",
       "    <tr>\n",
       "      <th>1</th>\n",
       "      <td>holiday</td>\n",
       "      <td>1.03</td>\n",
       "    </tr>\n",
       "  </tbody>\n",
       "</table>\n",
       "</div>"
      ],
      "text/plain": [
       "       Features   VIF\n",
       "2   temperature  1.92\n",
       "0          year  1.63\n",
       "6           Jan  1.50\n",
       "5        winter  1.46\n",
       "10         Mist  1.44\n",
       "4        summer  1.33\n",
       "7          July  1.33\n",
       "8           Sep  1.19\n",
       "3     windspeed  1.10\n",
       "9    Light Snow  1.07\n",
       "1       holiday  1.03"
      ]
     },
     "execution_count": 51,
     "metadata": {},
     "output_type": "execute_result"
    }
   ],
   "source": [
    "# calculating the vif values again\n",
    "vif = pd.DataFrame()\n",
    "vif['Features'] = X.columns\n",
    "vif['VIF'] = [variance_inflation_factor(X.values, i) for i in range(X.shape[1])]\n",
    "vif['VIF'] = round(vif['VIF'], 2)\n",
    "vif = vif.sort_values(by = \"VIF\", ascending = False)\n",
    "vif"
   ]
  },
  {
   "cell_type": "code",
   "execution_count": 52,
   "metadata": {},
   "outputs": [],
   "source": [
    "# all the vif values are within range as well so this model is the best for us now"
   ]
  },
  {
   "cell_type": "code",
   "execution_count": 53,
   "metadata": {},
   "outputs": [],
   "source": [
    "# RESIDUAL ANALYSIS"
   ]
  },
  {
   "cell_type": "code",
   "execution_count": 54,
   "metadata": {},
   "outputs": [],
   "source": [
    "y_pred = lm.predict(X_train_sm1).values.reshape(-1, 1)"
   ]
  },
  {
   "cell_type": "code",
   "execution_count": 55,
   "metadata": {},
   "outputs": [
    {
     "data": {
      "text/plain": [
       "<AxesSubplot:xlabel='Errors'>"
      ]
     },
     "execution_count": 55,
     "metadata": {},
     "output_type": "execute_result"
    },
    {
     "data": {
      "image/png": "[encoded data removed]",
      "text/plain": [
       "<Figure size 432x288 with 1 Axes>"
      ]
     },
     "metadata": {
      "needs_background": "light"
     },
     "output_type": "display_data"
    }
   ],
   "source": [
    "# plot the errors to see if they are normally distributed\n",
    "fig = plt.figure()\n",
    "fig.suptitle('Error Terms', fontsize = 20)                  \n",
    "plt.xlabel('Errors', fontsize = 18)  \n",
    "sns.distplot((y_train - y_pred), bins = 20)"
   ]
  },
  {
   "cell_type": "code",
   "execution_count": 56,
   "metadata": {},
   "outputs": [],
   "source": [
    "# Now we do predictive analysis\n",
    "df_test[numericals]= scaler.transform(df_test[numericals])\n",
    "\n",
    "y_test = df_test.pop('count')\n",
    "X_test = df_test\n",
    "\n",
    "X_test_1 = X_test[X.columns]\n",
    "X_test_1 = sm.add_constant(X_test_1)\n",
    "y_pred = lm.predict(X_test_1)"
   ]
  },
  {
   "cell_type": "code",
   "execution_count": 59,
   "metadata": {},
   "outputs": [],
   "source": [
    "# MODEL EVALUATION"
   ]
  },
  {
   "cell_type": "code",
   "execution_count": 60,
   "metadata": {},
   "outputs": [
    {
     "data": {
      "text/plain": [
       "<AxesSubplot:ylabel='count'>"
      ]
     },
     "execution_count": 60,
     "metadata": {},
     "output_type": "execute_result"
    },
    {
     "data": {
      "image/png": "[encoded data removed]",
      "text/plain": [
       "<Figure size 432x288 with 1 Axes>"
      ]
     },
     "metadata": {
      "needs_background": "light"
     },
     "output_type": "display_data"
    }
   ],
   "source": [
    "# we use regplot here to compare the predictions versus the test data\n",
    "fig = plt.figure()\n",
    "plt.scatter(y_test,y_pred)\n",
    "fig.suptitle('Actual vs Predictions', fontsize=20)              \n",
    "plt.xlabel('Actual', fontsize=18)\n",
    "plt.ylabel('Predictions', fontsize=16)\n",
    "sns.regplot(y_pred, y_test, scatter = 0, color = 'r')"
   ]
  },
  {
   "cell_type": "code",
   "execution_count": 61,
   "metadata": {},
   "outputs": [
    {
     "data": {
      "text/plain": [
       "0.7911553831774946"
      ]
     },
     "execution_count": 61,
     "metadata": {},
     "output_type": "execute_result"
    }
   ],
   "source": [
    "# R2 score calculation\n",
    "r2_score(y_test, y_pred)"
   ]
  }
 ],
 "metadata": {
  "kernelspec": {
   "display_name": "Python 3",
   "language": "python",
   "name": "python3"
  },
  "language_info": {
   "codemirror_mode": {
    "name": "ipython",
    "version": 3
   },
   "file_extension": ".py",
   "mimetype": "text/x-python",
   "name": "python",
   "nbconvert_exporter": "python",
   "pygments_lexer": "ipython3",
   "version": "3.7.6"
  }
 },
 "nbformat": 4,
 "nbformat_minor": 4
}
